{
  "nbformat": 4,
  "nbformat_minor": 0,
  "metadata": {
    "colab": {
      "provenance": []
    },
    "kernelspec": {
      "name": "python3",
      "display_name": "Python 3"
    },
    "language_info": {
      "name": "python"
    }
  },
  "cells": [
    {
      "cell_type": "code",
      "execution_count": 1,
      "metadata": {
        "id": "37n5Eoq49zcl"
      },
      "outputs": [],
      "source": [
        "from PIL import ImageTk, Image\n",
        "import numpy\n",
        "#load the trained model to classify sign\n",
        "from keras.models import load_model\n",
        "model = load_model('traffic_classifier.h5')\n",
        "#dictionary to label all traffic signs class.\n",
        "classes_dict = { 1:'Speed limit (20km/h)',\n",
        "           2:'Speed limit (30km/h)',\n",
        "           3:'Speed limit (50km/h)',\n",
        "           4:'Speed limit (60km/h)',\n",
        "           5:'Speed limit (70km/h)',\n",
        "           6:'Speed limit (80km/h)',\n",
        "           7:'End of speed limit (80km/h)',\n",
        "           8:'Speed limit (100km/h)',\n",
        "           9:'Speed limit (120km/h)',\n",
        "           10:'No passing',\n",
        "           11:'No passing veh over 3.5 tons',\n",
        "           12:'Right-of-way at intersection',\n",
        "           13:'Priority road',\n",
        "           14:'Yield',\n",
        "           15:'Stop',\n",
        "           16:'No vehicles',\n",
        "           17:'Veh > 3.5 tons prohibited',\n",
        "           18:'No entry',\n",
        "           19:'General caution',\n",
        "           20:'Dangerous curve left',\n",
        "           21:'Dangerous curve right',\n",
        "           22:'Double curve',\n",
        "           23:'Bumpy road',\n",
        "           24:'Slippery road',\n",
        "           25:'Road narrows on the right',\n",
        "           26:'Road work',\n",
        "           27:'Traffic signals',\n",
        "           28:'Pedestrians',\n",
        "           29:'Children crossing',\n",
        "           30:'Bicycles crossing',\n",
        "           31:'Beware of ice/snow',\n",
        "           32:'Wild animals crossing',\n",
        "           33:'End speed + passing limits',\n",
        "           34:'Turn right ahead',\n",
        "           35:'Turn left ahead',\n",
        "           36:'Ahead only',\n",
        "           37:'Go straight or right',\n",
        "           38:'Go straight or left',\n",
        "           39:'Keep right',\n",
        "           40:'Keep left',\n",
        "           41:'Roundabout mandatory',\n",
        "           42:'End of no passing',\n",
        "           43:'End no passing vehicle with a weight greater than 3.5 tons' }\n"
      ]
    },
    {
      "cell_type": "code",
      "source": [
        "def classify(file_path):\n",
        "   global label_packed\n",
        "   image = Image.open(file_path)\n",
        "   image = image.resize((30,30))\n",
        "   image = numpy.expand_dims(image, axis=0)\n",
        "   image = numpy.array(image)\n",
        "   pred = model.predict([image])[0]\n",
        "   classes_x=np.argmax(pred,axis=0)\n",
        "  \n",
        "   print(classes_x)\n",
        "   sign = classes_dict[classes_x+1]\n",
        "   print(sign)"
      ],
      "metadata": {
        "id": "I7S_nSdB-JO3"
      },
      "execution_count": 7,
      "outputs": []
    }
  ]
}