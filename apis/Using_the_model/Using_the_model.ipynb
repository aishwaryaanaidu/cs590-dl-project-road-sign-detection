{
  "nbformat": 4,
  "nbformat_minor": 2,
  "metadata": {
    "colab": {
      "provenance": []
    },
    "kernelspec": {
      "name": "python3",
      "display_name": "Python 3"
    },
    "language_info": {
      "name": "python"
    }
  },
  "cells": [
    {
      "cell_type": "code",
      "execution_count": 1,
      "source": [
        "from PIL import ImageTk, Image\n",
        "import numpy\n",
        "#load the trained model to classify sign\n",
        "from keras.models import load_model\n",
        "model = load_model('traffic_classifier.h5')\n",
        "#dictionary to label all traffic signs class.\n",
        "classes_dict = { 1:'Speed limit (20km/h)',\n",
        "           2:'Speed limit (30km/h)',\n",
        "           3:'Speed limit (50km/h)',\n",
        "           4:'Speed limit (60km/h)',\n",
        "           5:'Speed limit (70km/h)',\n",
        "           6:'Speed limit (80km/h)',\n",
        "           7:'End of speed limit (80km/h)',\n",
        "           8:'Speed limit (100km/h)',\n",
        "           9:'Speed limit (120km/h)',\n",
        "           10:'No passing',\n",
        "           11:'No passing veh over 3.5 tons',\n",
        "           12:'Right-of-way at intersection',\n",
        "           13:'Priority road',\n",
        "           14:'Yield',\n",
        "           15:'Stop',\n",
        "           16:'No vehicles',\n",
        "           17:'Veh > 3.5 tons prohibited',\n",
        "           18:'No entry',\n",
        "           19:'General caution',\n",
        "           20:'Dangerous curve left',\n",
        "           21:'Dangerous curve right',\n",
        "           22:'Double curve',\n",
        "           23:'Bumpy road',\n",
        "           24:'Slippery road',\n",
        "           25:'Road narrows on the right',\n",
        "           26:'Road work',\n",
        "           27:'Traffic signals',\n",
        "           28:'Pedestrians',\n",
        "           29:'Children crossing',\n",
        "           30:'Bicycles crossing',\n",
        "           31:'Beware of ice/snow',\n",
        "           32:'Wild animals crossing',\n",
        "           33:'End speed + passing limits',\n",
        "           34:'Turn right ahead',\n",
        "           35:'Turn left ahead',\n",
        "           36:'Ahead only',\n",
        "           37:'Go straight or right',\n",
        "           38:'Go straight or left',\n",
        "           39:'Keep right',\n",
        "           40:'Keep left',\n",
        "           41:'Roundabout mandatory',\n",
        "           42:'End of no passing',\n",
        "           43:'End no passing vehicle with a weight greater than 3.5 tons' }\n"
      ],
      "outputs": [],
      "metadata": {
        "id": "37n5Eoq49zcl"
      }
    },
    {
      "cell_type": "code",
      "execution_count": 7,
      "source": [
        "def classify(file_path):\n",
        "   global label_packed\n",
        "   image = image.resize((30,30))\n",
        "   image = numpy.expand_dims(image, axis=0)\n",
        "   image = numpy.array(image)\n",
        "   pred = model.predict([image])[0]\n",
        "   classes_x=np.argmax(pred,axis=0)\n",
        "  \n",
        "   print(classes_x)\n",
        "   sign = classes_dict[classes_x+1]\n",
        "   print(sign)\n",
        "   return sign"
      ],
      "outputs": [],
      "metadata": {
        "id": "I7S_nSdB-JO3"
      }
    },
    {
      "cell_type": "code",
      "execution_count": null,
      "source": [
        "import base64\n",
        "import io\n",
        "def stringToImage(base64_string):\n",
        "    imgdata = base64.b64decode(base64_string)\n",
        "    return imgdata"
      ],
      "outputs": [],
      "metadata": {}
    },
    {
      "cell_type": "code",
      "execution_count": null,
      "source": [
        "!pip install flask_ngrok\n",
        "!pip install flask_cors"
      ],
      "outputs": [],
      "metadata": {}
    },
    {
      "cell_type": "code",
      "execution_count": null,
      "source": [
        "from flask import Flask, jsonify, request\n",
        "from flask_ngrok import run_with_ngrok\n",
        "from flask_cors import CORS, cross_origin\n",
        "from flask import jsonify\n",
        "import json\n",
        "\n",
        "app = Flask(__name__)\n",
        "cors = CORS(app)\n",
        "app.config['CORS_HEADERS'] = 'Content-Type'\n",
        "\n",
        "run_with_ngrok(app)\n",
        "\n",
        "@cross_origin(supports_credentials=True)\n",
        "@app.route('/', methods=['POST'])\n",
        "def detect_road_sign():\n",
        "  request_data = request.get_data()\n",
        "  data = json.loads(request_data.decode('utf-8'))\n",
        "  encoded_image = data['input']\n",
        "  prediction = classify(stringToImage(encoded_image.split(\",\")[1]))\n",
        "  response = {\"prediction\": str(prediction)}\n",
        "  return response\n",
        "\n",
        "if __name__ == \"__main__\":\n",
        "  app.run()"
      ],
      "outputs": [],
      "metadata": {}
    }
  ]
}